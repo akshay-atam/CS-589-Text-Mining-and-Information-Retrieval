{
  "cells": [
    {
      "cell_type": "markdown",
      "metadata": {
        "id": "lRX_B3DGoK4J"
      },
      "source": [
        "# Overview \n",
        "\n",
        "We design this assignment to help you fully understand probabilistic Latent Semantic Analysis\n",
        " (pLSA) and its computation - expectation maximization (EM) algorithm. You will see how pLSA will help identify the underlying topic (i.e., programming language) of the synthetic code snippets. \n",
        "\n",
        "In this assignment, you will need to **run through** (i.e., running each code cell sequentially or `Runtime -> Run all`) the following pipeline:\n",
        "\n",
        "- Preparation:\n",
        "    - Downloading the dataset and loading required libraries.\n",
        "    - Inspecting data.\n",
        "- Part 1 (Q1, Q2): Implementating pLSA based on EM algorithm with unlabeled data only; both of the questions are worth 40 points.\n",
        "- Part 2 (Q3): Improving your implementation in Part 1 by incorporating labeled data; this question is worth 20 points.\n",
        "- Making a Submission\n",
        "\n",
        "\n",
        "**Runtime**: If you implement everything correctly, you will finish running this entire notebook within 3 minutes under `Stevens-Net`. If you are experiencing noticeable delay, check your network condition.\n",
        "\n",
        "**Library requirement**: You are **NOT** allowed to use existing libraries that have already implemented pLSA algorithms for you; other than these libraries, you are free to choose your preferred libraries.\n",
        "\n",
        "**Note on Colab**: If a cell contains only a function, you should still run it (so the function compiles in Colab), even though it doesn't print any outputs. \n",
        "\n"
      ]
    },
    {
      "cell_type": "markdown",
      "metadata": {
        "id": "rX488frNqSmE"
      },
      "source": [
        "# Loading Dataset and Importing Libraries"
      ]
    },
    {
      "cell_type": "code",
      "source": [
        "! rm -rf cs589*\n",
        "! rm -rf submission*"
      ],
      "metadata": {
        "id": "fbO8PghlT03W"
      },
      "execution_count": 176,
      "outputs": []
    },
    {
      "cell_type": "code",
      "execution_count": 177,
      "metadata": {
        "id": "w1_xkfh4an8R",
        "outputId": "ac30019b-d23a-468e-b09b-1028a56f056d",
        "colab": {
          "base_uri": "https://localhost:8080/"
        }
      },
      "outputs": [
        {
          "output_type": "stream",
          "name": "stdout",
          "text": [
            "Cloning into 'cs589assignment3'...\n",
            "remote: Enumerating objects: 37, done.\u001b[K\n",
            "remote: Counting objects:   2% (1/37)\u001b[K\rremote: Counting objects:   5% (2/37)\u001b[K\rremote: Counting objects:   8% (3/37)\u001b[K\rremote: Counting objects:  10% (4/37)\u001b[K\rremote: Counting objects:  13% (5/37)\u001b[K\rremote: Counting objects:  16% (6/37)\u001b[K\rremote: Counting objects:  18% (7/37)\u001b[K\rremote: Counting objects:  21% (8/37)\u001b[K\rremote: Counting objects:  24% (9/37)\u001b[K\rremote: Counting objects:  27% (10/37)\u001b[K\rremote: Counting objects:  29% (11/37)\u001b[K\rremote: Counting objects:  32% (12/37)\u001b[K\rremote: Counting objects:  35% (13/37)\u001b[K\rremote: Counting objects:  37% (14/37)\u001b[K\rremote: Counting objects:  40% (15/37)\u001b[K\rremote: Counting objects:  43% (16/37)\u001b[K\rremote: Counting objects:  45% (17/37)\u001b[K\rremote: Counting objects:  48% (18/37)\u001b[K\rremote: Counting objects:  51% (19/37)\u001b[K\rremote: Counting objects:  54% (20/37)\u001b[K\rremote: Counting objects:  56% (21/37)\u001b[K\rremote: Counting objects:  59% (22/37)\u001b[K\rremote: Counting objects:  62% (23/37)\u001b[K\rremote: Counting objects:  64% (24/37)\u001b[K\rremote: Counting objects:  67% (25/37)\u001b[K\rremote: Counting objects:  70% (26/37)\u001b[K\rremote: Counting objects:  72% (27/37)\u001b[K\rremote: Counting objects:  75% (28/37)\u001b[K\rremote: Counting objects:  78% (29/37)\u001b[K\rremote: Counting objects:  81% (30/37)\u001b[K\rremote: Counting objects:  83% (31/37)\u001b[K\rremote: Counting objects:  86% (32/37)\u001b[K\rremote: Counting objects:  89% (33/37)\u001b[K\rremote: Counting objects:  91% (34/37)\u001b[K\rremote: Counting objects:  94% (35/37)\u001b[K\rremote: Counting objects:  97% (36/37)\u001b[K\rremote: Counting objects: 100% (37/37)\u001b[K\rremote: Counting objects: 100% (37/37), done.\u001b[K\n",
            "remote: Compressing objects: 100% (24/24), done.\u001b[K\n",
            "remote: Total 37 (delta 7), reused 37 (delta 7), pack-reused 0\u001b[K\n",
            "Unpacking objects: 100% (37/37), done.\n",
            "Reading package lists... Done\n",
            "Building dependency tree       \n",
            "Reading state information... Done\n",
            "tree is already the newest version (1.7.0-5).\n",
            "The following package was automatically installed and is no longer required:\n",
            "  libnvidia-common-460\n",
            "Use 'apt autoremove' to remove it.\n",
            "0 upgraded, 0 newly installed, 0 to remove and 5 not upgraded.\n"
          ]
        }
      ],
      "source": [
        "! git clone https://github.com/guanqun-yang/cs589assignment3\n",
        "! apt-get install tree"
      ]
    },
    {
      "cell_type": "code",
      "execution_count": 178,
      "metadata": {
        "id": "p078QiaEqbT8"
      },
      "outputs": [],
      "source": [
        "import pathlib\n",
        "import itertools\n",
        "\n",
        "import numpy as np\n",
        "import pandas as pd\n",
        "\n",
        "from tqdm import trange\n",
        "from collections import Counter\n",
        "from cs589assignment3.utils.common import (   \n",
        "    seed_everything,\n",
        "    post_processing\n",
        ")\n",
        "\n",
        "seed_everything(0)\n",
        "\n",
        "pd.options.display.max_columns = 10\n",
        "pd.options.display.max_colwidth = 20\n",
        "\n",
        "save_path = pathlib.Path(\"submission\")\n",
        "if not save_path.exists(): \n",
        "    save_path.mkdir()"
      ]
    },
    {
      "cell_type": "markdown",
      "metadata": {
        "id": "isawdB3LvvJR"
      },
      "source": [
        "# Looking at the Data\n",
        "\n",
        "The pLSA considers a generatative process. For each $i$-th position of the document $d$ is determined by two distributions:\n",
        "1. First choose a topic $z_i$:\n",
        "$$z_i \\sim \\mathrm{Multinomial}(\\theta_d)$$\n",
        "where $\\theta_d$ is the document-topic vector of document $d$; its length is the number of topics of a corpus; this makes $\\theta_d \\in \\mathbb{R}^2$.\n",
        "2. Then choose a term $w_i$ under the topic in the first step: \n",
        "$$w_i \\sim \\mathrm{Multinomial}(\\phi_z)$$\n",
        "where $\\phi_z$ is the topic-word vector for each topic; its length is the number of terms of a topic; this makes $\\phi_z \\in \\mathbb{R}^8$.\n",
        "\n",
        "In this assignment,\n",
        "- Our corpus has 2 topics, i.e., Java and Python.\n",
        "- Our corpus has 8 possible words (i.e., the vocabulary `vocab`); they are all [reserved words](https://en.wikipedia.org/wiki/Reserved_word) for the Java and Python programming languages\n",
        "```python\n",
        "vocab = {\n",
        "    \"import\", \"class\", \"arraylist\", \"hashset\"\n",
        "    \"hashmap\", \"lambda\", \"def\", \"elif\"\n",
        "}\n",
        "```\n",
        "\n",
        "As a developer, we can tell a program is written in Python if it includes `def`, `lambda`, and `elif`; a program is written in Java if it has `arraylist`, `hastset`, and `hashmap`; while `import` and `class` does not provide a lot of information for the underlying language as both languages share them. \n",
        "\n",
        "In this assignment, we need to teach the computer to learn about this through pLSA. Let's first look at the data; we have \n",
        "- 100 samples that have known topics (Java or Python).\n",
        "- 10000 samples whose topics are waiting to be discovered.\n",
        "\n",
        "\n"
      ]
    },
    {
      "cell_type": "code",
      "execution_count": 179,
      "metadata": {
        "id": "LkLQiVetoGKp"
      },
      "outputs": [],
      "source": [
        "n_topic = 2\n",
        "n_word = None\n",
        "n_doc = None\n",
        "n_labeled = None\n",
        "\n",
        "df = pd.read_csv(\"cs589assignment3/dataset/dataset.txt\", \n",
        "                 sep=\"\\t\", \n",
        "                 names=[\"label\", \"text\"]).convert_dtypes(int)\n",
        "\n",
        "vocab = set(itertools.chain(*[text.split() for text in df.text.tolist()]))\n",
        "\n",
        "labeled_df = df[~df.label.isna()]\n",
        "unlabeled_df = df[df.label.isna()]"
      ]
    },
    {
      "cell_type": "code",
      "execution_count": 180,
      "metadata": {
        "id": "cx3-60W4rKxp",
        "outputId": "f4950df7-b3f5-4dec-feea-93867e35d561",
        "colab": {
          "base_uri": "https://localhost:8080/"
        }
      },
      "outputs": [
        {
          "output_type": "stream",
          "name": "stdout",
          "text": [
            "   label                 text\n",
            "0      0  arraylist class ...\n",
            "1      1  lambda class lam...\n",
            "2      1  lambda lambda el...\n",
            "3      0  hashmap hashmap ...\n",
            "4      1  import elif def ...\n",
            "     label                 text\n",
            "100   <NA>  hashmap import h...\n",
            "101   <NA>  class lambda has...\n",
            "102   <NA>  import class imp...\n",
            "103   <NA>  arraylist hashma...\n",
            "104   <NA>  def elif import ...\n"
          ]
        }
      ],
      "source": [
        "print(labeled_df.head())\n",
        "print(unlabeled_df.head())"
      ]
    },
    {
      "cell_type": "code",
      "execution_count": 181,
      "metadata": {
        "id": "_bb3_gRY22fo"
      },
      "outputs": [],
      "source": [
        "token_to_index_dict = {token: index for index, token in enumerate(vocab)}\n",
        "index_to_token_dict = {v: k for k, v in token_to_index_dict.items()}"
      ]
    },
    {
      "cell_type": "code",
      "execution_count": 182,
      "metadata": {
        "id": "1qHygaVaaKAr"
      },
      "outputs": [],
      "source": [
        "# helper function\n",
        "def format_result(unlabeled_df, topic_word_mat, document_topic_mat):\n",
        "    topic_word_df = pd.DataFrame(\n",
        "        topic_word_mat,\n",
        "        columns=list(token_to_index_dict.keys()),\n",
        "        index=[\"Java\", \"Python\"]\n",
        "        )\n",
        "\n",
        "    document_topic_df = pd.DataFrame(document_topic_mat, columns=[\"Java\", \"Python\"])\n",
        "    document_topic_df = document_topic_df.assign(text=unlabeled_df.text.tolist())\n",
        "\n",
        "    return topic_word_df, document_topic_df"
      ]
    },
    {
      "cell_type": "code",
      "execution_count": 183,
      "metadata": {
        "id": "8Vi1y5b2W4c-"
      },
      "outputs": [],
      "source": [
        "n_word = len(vocab)"
      ]
    },
    {
      "cell_type": "markdown",
      "metadata": {
        "id": "HtUA9i5yC5sK"
      },
      "source": [
        "The code snippet below represents each code snippet as vector of size 8, where each entry is the word count."
      ]
    },
    {
      "cell_type": "code",
      "execution_count": 184,
      "metadata": {
        "id": "71jVJyIU2x7p"
      },
      "outputs": [],
      "source": [
        "def get_token_cnt_vector(text):\n",
        "    # this function depends on n_word and token_to_index_dict variables\n",
        "    # initialized above\n",
        "\n",
        "    token_cnt_vector = np.zeros(n_word)\n",
        "\n",
        "    for token, cnt in Counter(text.split()).items():\n",
        "        index = token_to_index_dict[token]\n",
        "        token_cnt_vector[index] = cnt\n",
        "    \n",
        "    return token_cnt_vector\n",
        "\n",
        "labeled_doc_mat = np.vstack(labeled_df.text.apply(get_token_cnt_vector).tolist())\n",
        "unlabeled_doc_mat = np.vstack(unlabeled_df.text.apply(get_token_cnt_vector).tolist())"
      ]
    },
    {
      "cell_type": "markdown",
      "metadata": {
        "id": "TlnYezPYDca3"
      },
      "source": [
        "For example, let's look at the first labeled document:"
      ]
    },
    {
      "cell_type": "code",
      "execution_count": 185,
      "metadata": {
        "id": "RJYF0fAIDi10",
        "outputId": "fc2d6db5-541d-49a0-ef96-dd81add7d5b5",
        "colab": {
          "base_uri": "https://localhost:8080/"
        }
      },
      "outputs": [
        {
          "output_type": "stream",
          "name": "stdout",
          "text": [
            "0\n",
            "arraylist class hashmap hashmap arraylist hashmap hashmap hashset hashmap hashmap hashmap hashmap import hashmap class import class hashmap import hashmap hashmap arraylist hashmap hashmap arraylist hashset hashmap hashmap hashset class hashmap import arraylist hashmap arraylist hashmap hashset hashmap hashset hashmap import arraylist arraylist arraylist hashset hashmap import hashset hashset hashset import hashset class hashset hashmap hashset hashmap hashmap import class arraylist hashmap hashset hashset hashset arraylist hashmap import arraylist hashmap arraylist import arraylist hashmap import hashset class import hashmap hashmap class hashset class hashmap hashset hashset import hashmap class hashmap hashmap class arraylist hashmap hashmap import hashset hashmap hashmap class \n",
            "[15.  0. 12.  0.  0. 39. 20. 14.]\n"
          ]
        }
      ],
      "source": [
        "print(labeled_df.label.tolist()[0])\n",
        "print(labeled_df.text.tolist()[0])\n",
        "print(labeled_doc_mat[0])"
      ]
    },
    {
      "cell_type": "markdown",
      "metadata": {
        "id": "SPXqTVmeDPrg"
      },
      "source": [
        "We have 100 labeled documents and 10000 unlabeled ones; this gives us two matrices of shape `(100, 8)` and `(10000, 8)` respectively."
      ]
    },
    {
      "cell_type": "code",
      "execution_count": 186,
      "metadata": {
        "id": "qSo_BeJh2799",
        "outputId": "c3439365-992e-4d9a-f8aa-a72aad2143ef",
        "colab": {
          "base_uri": "https://localhost:8080/"
        }
      },
      "outputs": [
        {
          "output_type": "stream",
          "name": "stdout",
          "text": [
            "(100, 8)\n",
            "(10000, 8)\n"
          ]
        }
      ],
      "source": [
        "print(labeled_doc_mat.shape)\n",
        "print(unlabeled_doc_mat.shape)"
      ]
    },
    {
      "cell_type": "markdown",
      "metadata": {
        "id": "CEUDutKqCHGa"
      },
      "source": [
        "The `labeled_df` and `unlabeled_df` may remind you of a typical machine learning setting, where one could predict the labels of 10000 samples given a model trained on 100 labeled samples. But this is **NOT** what we are trying to do in this assignment. Rather, we are trying to\n",
        "\n",
        "- Part 1: Estimate $\\theta_d$ and $\\phi_z$ with unlabeled data only using pLSA.\n",
        "- Part 2: Use the labeled data to improve the estimation in step 1.\n"
      ]
    },
    {
      "cell_type": "markdown",
      "metadata": {
        "id": "oSOi0-utCcUu"
      },
      "source": [
        "# Part 1: pLSA with Unlabeled Data\n",
        "\n",
        "The E-step and M-step are shown below:\n",
        "\n",
        "## E-Step\n",
        "\n",
        "For each document $j=1,2,\\cdots, 10000$, each word $i=1,2,\\cdots,8$, and each topic $k=1,2$:\n",
        "- At the 1st iteration, computing $p(z_k\\vert w_i, d_j)$ depends on randomly initialized $p(w_i\\vert z_k)$ and $p(z_k\\vert d_j)$.\n",
        "- At the rest of iterations, computing $p(z_k\\vert w_i, d_j)$ depends on $p(w_i\\vert z_k)$ and $p(z_k\\vert d_j)$ computed from the last iteration.\n",
        "\n",
        "$$\n",
        "p(z_k\\vert w_i, d_j) = \n",
        "\\frac{p(w_i\\vert z_k) p(z_k\\vert d_j)}{\\sum_{k=1}^2p(w_i\\vert z_k)p(z_k\\vert d_j)}\n",
        "$$\n",
        "\n",
        "## M-Step\n",
        "- For each document $j=1,2,\\cdots,10000$, each word $i=1,2,\\cdots,8$, and each topic $k=1,2$:\n",
        "$$\n",
        "p(w_i\\vert z_k)=\n",
        "\\frac{\\sum_{j=1}^{10000} n(w_i, d_j) p(z_k\\vert w_i, d_j)}{\\sum_{m=1}^8\\sum_{j=1}^{10000} n(w_m, d_j) p(z_k\\vert w_m, d_j)}\n",
        "$$\n",
        "where $n(w_m, d_j)$ is the number of appearances of the word $w_m$ in the document $d_j$.\n",
        "- For each document $j=1,2,\\cdots, 10000$, each word $i=1,2,\\cdots, 8$, and each topic $k=1,2$:\n",
        "$$\n",
        "p(z_k\\vert d_j)=\n",
        "\\frac{\\sum_{i=1}^{10000} n(w_i, d_j) p(z_k\\vert w_i, d_j)}{\\sum_{i=1}^{10000} n(w_i, d_j)}\n",
        "$$\n",
        "where $n(w_i, d_j)$ is the number of appearances of the word $w_i$ in the document $d_j$."
      ]
    },
    {
      "cell_type": "markdown",
      "metadata": {
        "id": "S6bG8TPlCbWs"
      },
      "source": [
        "In code, the $\\theta_d$ and $\\phi_z$ are represented as `document_topic_mat` and `topic_word_mat` for efficient computation:\n",
        "\n",
        "\n",
        "- `document_topic_mat`:\n",
        "$$\n",
        "    \\begin{pmatrix}\n",
        "    - &\\theta_1^T& - \\\\\n",
        "    - &\\vdots &- \\\\\n",
        "    - &\\theta_{10000}^T& - \\\\\n",
        "    \\end{pmatrix}\n",
        "    \\in \\mathbb{R}^{10000\\times 2} \n",
        "$$\n",
        "\n",
        "- `topic_word_mat`: It is a matrix representing the topic word distribution of the **entire corpus**.\n",
        "\n",
        "$$\n",
        "    \\begin{pmatrix}\n",
        "    -&\\phi_\\mathrm{Java}^{T}&-\\\\\n",
        "    -&\\phi_\\mathrm{Python}^{T}&-\n",
        "    \\end{pmatrix}\n",
        "    \\in \\mathbb{R}^{2 \\times 8}\n",
        "$$\n",
        "\n",
        "Another variable you could see in the code is `pred`:\n",
        "\n",
        "- `pred`: It is a matrix stacked with 10000 matrices, each representing the topic word distribution of **each document**.\n",
        "\n",
        "$$\n",
        "    \\begin{pmatrix}\n",
        "    \\begin{pmatrix}\n",
        "    - &\\phi_\\mathrm{Java}^{(1)T}&-\\\\\n",
        "    -&\\phi_\\mathrm{Python}^{(1)T}&-\n",
        "    \\end{pmatrix}\\\\\n",
        "    \\vdots\\\\\n",
        "    \\begin{pmatrix}\n",
        "    -&\\phi_\\mathrm{Java}^{(10000)T}&-\\\\\n",
        "    -&\\phi_\\mathrm{Python}^{(10000)T}&-\n",
        "    \\end{pmatrix}\n",
        "    \\end{pmatrix} \\in \\mathbb{R}^{10000 \\times 2 \\times 8}\n",
        "$$\n",
        "    \n",
        "\n"
      ]
    },
    {
      "cell_type": "code",
      "execution_count": 187,
      "metadata": {
        "id": "m6TqB9Euzyci"
      },
      "outputs": [],
      "source": [
        "# global variables\n",
        "n_word = len(vocab)\n",
        "n_labeled = len(labeled_df)\n",
        "n_doc = len(unlabeled_df)\n",
        "n_iteration = 100"
      ]
    },
    {
      "cell_type": "markdown",
      "metadata": {
        "id": "gGJkMdJU0EJz"
      },
      "source": [
        "## E-Step"
      ]
    },
    {
      "cell_type": "code",
      "execution_count": 188,
      "metadata": {
        "id": "Q4hdWBTWu1eh"
      },
      "outputs": [],
      "source": [
        "def E_step(document_topic_mat, topic_word_mat):   \n",
        "    \"\"\"\n",
        "    Input:\n",
        "        document_topic_mat: (n_doc, n_topic), probability of each document being one of the topics\n",
        "        topic_word_mat: (n_topic, n_word), probability of each topic has each word for the entire corpus\n",
        "    \n",
        "    Output:\n",
        "        pred: (n_doc, n_word, n_topic), probability of each topic has each for for each document\n",
        "    \"\"\"\n",
        "\n",
        "    pred = np.zeros((n_doc, n_word, n_topic))\n",
        "\n",
        "    #############################################START HERE#############################################\n",
        "    # Question 1 (40 pt)\n",
        "\n",
        "    numerator = np.zeros((n_doc, n_word, n_topic))\n",
        "\n",
        "    # Loop variables: j for documents, v for words, k for topics\n",
        "\n",
        "    # Loop through each document\n",
        "    for j in range(n_doc):\n",
        "\n",
        "      # Loop through each word\n",
        "      for v in range(n_word):\n",
        "        denominator = 0\n",
        "\n",
        "        # Loop through each topic\n",
        "        for k in range(n_topic):\n",
        "          numerator[j][v][k] = topic_word_mat[k][v] * document_topic_mat[j][k]\n",
        "          denominator += numerator[j][v][k]\n",
        "\n",
        "        # Zero division check\n",
        "        if denominator == 0:\n",
        "          for k in range(n_topic):\n",
        "            pred[j][v][k] = 0\n",
        "        else:\n",
        "          for k in range(n_topic):\n",
        "            pred[j][v][k] = numerator[j][v][k] / denominator\n",
        "\n",
        "    ##############################################END HERE##############################################\n",
        "    \n",
        "    return pred"
      ]
    },
    {
      "cell_type": "markdown",
      "metadata": {
        "id": "OEmBddra0Itk"
      },
      "source": [
        "## M-Step\n"
      ]
    },
    {
      "cell_type": "code",
      "execution_count": 189,
      "metadata": {
        "id": "4_84_s_Ox0vC"
      },
      "outputs": [],
      "source": [
        "def compute_document_topic_mat(pred, unlabeled_doc_mat):\n",
        "    \"\"\"\n",
        "    Input:\n",
        "        pred: (n_doc, n_word, n_topic), probability of each topic has each for for each document\n",
        "        unlabeled_doc_mat: (n_doc, n_word), word count for each document\n",
        "    \n",
        "    Output:\n",
        "        document_topic_mat: (n_doc, n_topic), probability of each document being one of the topics\n",
        "    \"\"\"\n",
        "\n",
        "    document_topic_mat = np.zeros((n_doc, n_topic))\n",
        "    for j in range(n_doc):\n",
        "        for v in range(n_word):\n",
        "            document_topic_mat[j][0] += pred[j][v][0] * unlabeled_doc_mat[j][v]\n",
        "            document_topic_mat[j][1] += pred[j][v][1] * unlabeled_doc_mat[j][v]\n",
        "    \n",
        "\n",
        "    return document_topic_mat"
      ]
    },
    {
      "cell_type": "code",
      "execution_count": 190,
      "metadata": {
        "id": "GCBfI8tcydh5"
      },
      "outputs": [],
      "source": [
        "def compute_topic_word_mat(pred, unlabeled_doc_mat):\n",
        "    \"\"\"\n",
        "    Input:\n",
        "        pred: (n_doc, n_word, n_topic), probability of each topic has each for for each document\n",
        "        unlabeled_doc_mat: (n_doc, n_word), word count for each document\n",
        "    \n",
        "    Output:\n",
        "        topic_word_mat: (n_topic, n_word), probability of each topic has each word for the entire corpus\n",
        "    \"\"\"\n",
        "    topic_word_mat = np.zeros((n_topic, n_word))\n",
        "\n",
        "    ##############################################START HERE##############################################\n",
        "    # Question 2 (40 pt)\n",
        "\n",
        "    numerator = np.zeros((n_topic, n_word))\n",
        "\n",
        "    for k in range(n_topic):\n",
        "      denominator = 0\n",
        "\n",
        "      for v in range(n_word):\n",
        "        numerator[k][v] = 0\n",
        "\n",
        "        for j in range(n_doc):\n",
        "          numerator[k][v] += unlabeled_doc_mat[k][v] * pred[j][v][k]\n",
        "\n",
        "        denominator += numerator[k][v]\n",
        "\n",
        "        # Zero division check\n",
        "        if denominator == 0:\n",
        "          for v in range(n_word):\n",
        "            topic_word_mat[k][v] = 1.0 / n_word\n",
        "        else:\n",
        "          for v in range(n_word):\n",
        "            topic_word_mat[k][v] = numerator[k][v] / denominator\n",
        "            \n",
        "    ##############################################END HERE################################################\n",
        "    \n",
        "\n",
        "    return topic_word_mat"
      ]
    },
    {
      "cell_type": "code",
      "execution_count": 191,
      "metadata": {
        "id": "FrkMr4CCvba1"
      },
      "outputs": [],
      "source": [
        "def M_step(pred, unlabeled_doc_mat):\n",
        "    document_topic_mat = compute_document_topic_mat(pred, unlabeled_doc_mat)\n",
        "    topic_word_mat = compute_topic_word_mat(pred, unlabeled_doc_mat)\n",
        "\n",
        "    document_topic_mat /= np.sum(document_topic_mat, axis=1, keepdims=True)\n",
        "    topic_word_mat /= np.sum(topic_word_mat, axis=1, keepdims=True)\n",
        "    \n",
        "    return document_topic_mat, topic_word_mat"
      ]
    },
    {
      "cell_type": "markdown",
      "metadata": {
        "id": "4CDkoMul0McQ"
      },
      "source": [
        "## EM Computation"
      ]
    },
    {
      "cell_type": "code",
      "execution_count": 192,
      "metadata": {
        "id": "cuSTkS5krIT1"
      },
      "outputs": [],
      "source": [
        "def compute_plsa_with_unlabaled_data(unlabeled_doc_mat):\n",
        "    seed_everything(0)\n",
        "\n",
        "    # initialize topic_word_mat\n",
        "    topic_word_mat = np.random.rand(n_topic, n_word)\n",
        "    topic_word_mat /= np.sum(topic_word_mat, axis=1, keepdims=True)\n",
        "\n",
        "    # initialize document_topic_mat\n",
        "    document_topic_mat = np.random.rand(n_doc, n_topic)\n",
        "    document_topic_mat /= np.sum(document_topic_mat, axis=1, keepdims=True)\n",
        "\n",
        "    pred = np.zeros((n_doc, n_word, n_topic))\n",
        "\n",
        "    for _ in trange(n_iteration):\n",
        "        # E-step\n",
        "        pred = E_step(document_topic_mat, topic_word_mat)\n",
        "\n",
        "        # M-step\n",
        "        document_topic_mat, topic_word_mat = M_step(pred, unlabeled_doc_mat)\n",
        "    \n",
        "    return document_topic_mat, topic_word_mat"
      ]
    },
    {
      "cell_type": "code",
      "execution_count": 193,
      "metadata": {
        "id": "c2KpQFN0ZDig",
        "colab": {
          "base_uri": "https://localhost:8080/"
        },
        "outputId": "e6485d9e-d240-44fd-d4f1-7c358fa5bcc1"
      },
      "outputs": [
        {
          "output_type": "stream",
          "name": "stderr",
          "text": [
            "100%|██████████| 100/100 [01:25<00:00,  1.17it/s]\n"
          ]
        }
      ],
      "source": [
        "document_topic_mat, topic_word_mat = compute_plsa_with_unlabaled_data(unlabeled_doc_mat)"
      ]
    },
    {
      "cell_type": "code",
      "execution_count": 194,
      "metadata": {
        "id": "m7INe0C_Zgh2"
      },
      "outputs": [],
      "source": [
        "topic_word_df, document_topic_df = format_result(unlabeled_df, topic_word_mat, document_topic_mat)"
      ]
    },
    {
      "cell_type": "markdown",
      "metadata": {
        "id": "8gXePcLGcL6s"
      },
      "source": [
        "You can now check if your implementation is correct by looking at:\n",
        "\n",
        "- `topic_word_df`: If word (i.e., reserved words of each programming langauage) probabilities match the actual language each word belongs to.\n",
        "- `document_topic_df`: If topic (i.e., programming languages) probabilities show the actual language the code snippet is written."
      ]
    },
    {
      "cell_type": "code",
      "execution_count": 195,
      "metadata": {
        "id": "8ZvqeE2OcM-F",
        "colab": {
          "base_uri": "https://localhost:8080/"
        },
        "outputId": "6b58f9a3-d598-4dbf-859f-bf4e1a8a7668"
      },
      "outputs": [
        {
          "output_type": "stream",
          "name": "stdout",
          "text": [
            "           arraylist           def     class      elif    lambda  \\\n",
            "Java    1.121291e-01  1.681937e-01  0.155530  0.024176  0.049406   \n",
            "Python  1.379118e-13  2.250298e-16  0.036831  0.197307  0.535284   \n",
            "\n",
            "             hashmap       hashset        import  \n",
            "Java    3.083551e-01  1.822098e-01  1.188478e-19  \n",
            "Python  1.997628e-12  3.065498e-14  2.305784e-01  \n",
            "       Java    Python                 text\n",
            "0  0.729130  0.270870  hashmap import h...\n",
            "1  0.469897  0.530103  class lambda has...\n",
            "2  0.536374  0.463626  import class imp...\n",
            "3  0.688794  0.311206  arraylist hashma...\n",
            "4  0.401009  0.598991  def elif import ...\n"
          ]
        }
      ],
      "source": [
        "print(topic_word_df)\n",
        "print(document_topic_df.head())"
      ]
    },
    {
      "cell_type": "code",
      "execution_count": 196,
      "metadata": {
        "id": "znSS9Q6zdeDx"
      },
      "outputs": [],
      "source": [
        "# save results for submission\n",
        "topic_word_df.to_pickle(save_path / \"unlabeled_topic_word.pkl\")\n",
        "document_topic_df.to_pickle(save_path / \"unlabeled_document_topic.pkl\")"
      ]
    },
    {
      "cell_type": "markdown",
      "metadata": {
        "id": "PAD452khCiKE"
      },
      "source": [
        "# Part 2: pLSA with Labeled and Unlabeled Data"
      ]
    },
    {
      "cell_type": "markdown",
      "metadata": {
        "id": "587D8rY-ZvqN"
      },
      "source": [
        "The estimation of `topic_word_mat` in Part 1 could be improved with our labeled data: on top of the regular M-step, the only change is that instead of using estimated `pred[j][i][k]`, we could known label `label[j][k]` from  each labeled document."
      ]
    },
    {
      "cell_type": "markdown",
      "metadata": {
        "id": "tdIPVlCvTLn5"
      },
      "source": [
        "## Enhanced M-Step"
      ]
    },
    {
      "cell_type": "code",
      "execution_count": 197,
      "metadata": {
        "id": "9Xcr3y9IUzuG"
      },
      "outputs": [],
      "source": [
        "# global variables\n",
        "label = np.zeros((n_labeled, n_topic))\n",
        "for idx, topic in enumerate(labeled_df.label.tolist()): \n",
        "    label[idx, topic] = 1"
      ]
    },
    {
      "cell_type": "code",
      "execution_count": 198,
      "metadata": {
        "id": "TLmBl0rjxRFD"
      },
      "outputs": [],
      "source": [
        "def enhanced_M_step(pred, labeled_doc_mat, unlabeled_doc_mat):\n",
        "    \"\"\"\n",
        "    Input:\n",
        "        pred: (n_doc, n_word, n_topic), probability of each topic has each for for each document\n",
        "        labeled_doc_mat: (n_labeled, n_word), word count for each labeled document\n",
        "        unlabeled_doc_mat: (n_doc, n_word), word count for each unlabeled document\n",
        "    \n",
        "    Output:\n",
        "        document_topic_mat: (n_doc, n_topic), probability of each document being one of the topics\n",
        "        topic_word_mat: (n_topic, n_word), probability of each topic has each word for the entire corpus\n",
        "    \"\"\"\n",
        "\n",
        "    document_topic_mat = compute_document_topic_mat(pred, unlabeled_doc_mat)\n",
        "    topic_word_mat = compute_topic_word_mat(pred, unlabeled_doc_mat)\n",
        "\n",
        "    ##############################################START HERE##############################################\n",
        "    # Question 3 (20 pt)\n",
        "    numerator = np.zeros((n_topic, n_word))\n",
        "    \n",
        "    for k in range(n_topic):\n",
        "      denominator = 0\n",
        "\n",
        "      for v in range(n_word):\n",
        "        numerator[k][v] = 0\n",
        "\n",
        "        for j in range(n_labeled):\n",
        "          # If the label is for java\n",
        "          # use pred[j][v][0] as the those are the predictions of Java\n",
        "          # else use pred[j][v][1], the predictions of Python\n",
        "          if label[j][0] == 1:\n",
        "            numerator[0][v] += labeled_doc_mat[j][v] * pred[j][v][0]\n",
        "          else:\n",
        "            numerator[1][v] += labeled_doc_mat[j][v] * pred[j][v][1]\n",
        "          \n",
        "        denominator += numerator[k][v]\n",
        "\n",
        "        # Zero division check\n",
        "        if denominator == 0:\n",
        "          for v in range(n_word):\n",
        "            topic_word_mat[k][v] = 1.0 / n_word\n",
        "        else:\n",
        "          for v in range(n_word):\n",
        "            topic_word_mat[k][v] = numerator[k][v] / denominator\n",
        "\n",
        "\n",
        "\n",
        "    ##############################################END HERE################################################\n",
        "\n",
        "    document_topic_mat /= np.sum(document_topic_mat, axis=1, keepdims=True)\n",
        "    topic_word_mat /= np.sum(topic_word_mat, axis=1, keepdims=True)\n",
        "    \n",
        "    return document_topic_mat, topic_word_mat\n"
      ]
    },
    {
      "cell_type": "markdown",
      "metadata": {
        "id": "c0UN7PWxT5BB"
      },
      "source": [
        "## EM Computation"
      ]
    },
    {
      "cell_type": "code",
      "execution_count": 199,
      "metadata": {
        "id": "p8SI3ySc1-EG"
      },
      "outputs": [],
      "source": [
        "def compute_plsa_with_all_data(labeled_doc_mat, unlabeled_doc_mat):\n",
        "    seed_everything(0)\n",
        "\n",
        "    # initialize topic_word_mat\n",
        "    topic_word_mat = np.random.rand(n_topic, n_word)\n",
        "    topic_word_mat /= np.sum(topic_word_mat, axis=1, keepdims=True)\n",
        "\n",
        "    # initialize document_topic_mat\n",
        "    document_topic_mat = np.random.rand(n_doc, n_topic)\n",
        "    document_topic_mat /= np.sum(document_topic_mat, axis=1, keepdims=True)\n",
        "\n",
        "    pred = np.zeros((n_doc, n_word, n_topic))\n",
        "\n",
        "    for _ in trange(n_iteration):\n",
        "        # E-step\n",
        "        pred = E_step(document_topic_mat, topic_word_mat)\n",
        "\n",
        "        # M-step\n",
        "        document_topic_mat, topic_word_mat = enhanced_M_step(pred, labeled_doc_mat, unlabeled_doc_mat)\n",
        "    \n",
        "    return document_topic_mat, topic_word_mat"
      ]
    },
    {
      "cell_type": "markdown",
      "metadata": {
        "id": "4QnM4W6EehhY"
      },
      "source": [
        "Repeat what we have done in Part 1 to check the output"
      ]
    },
    {
      "cell_type": "code",
      "execution_count": 200,
      "metadata": {
        "id": "4rfz-gWCeWqO",
        "colab": {
          "base_uri": "https://localhost:8080/"
        },
        "outputId": "f2831b88-e859-443b-df16-3744fa4d6ad5"
      },
      "outputs": [
        {
          "output_type": "stream",
          "name": "stderr",
          "text": [
            "100%|██████████| 100/100 [01:24<00:00,  1.19it/s]\n"
          ]
        }
      ],
      "source": [
        "document_topic_mat, topic_word_mat = compute_plsa_with_all_data(labeled_doc_mat, unlabeled_doc_mat)\n",
        "topic_word_df, document_topic_df = format_result(unlabeled_df, topic_word_mat, document_topic_mat)"
      ]
    },
    {
      "cell_type": "code",
      "execution_count": 201,
      "metadata": {
        "id": "CO9gtAlumaac",
        "collapsed": true,
        "colab": {
          "base_uri": "https://localhost:8080/"
        },
        "outputId": "1ed4989c-5873-4850-b4eb-10622c88702c"
      },
      "outputs": [
        {
          "output_type": "stream",
          "name": "stdout",
          "text": [
            "        arraylist       def     class      elif    lambda   hashmap   hashset  \\\n",
            "Java     0.238227  0.000000  0.051443  0.000000  0.000000  0.449043  0.213024   \n",
            "Python   0.000000  0.204196  0.056781  0.228034  0.456929  0.000000  0.000000   \n",
            "\n",
            "          import  \n",
            "Java    0.048263  \n",
            "Python  0.054059  \n",
            "       Java    Python                 text\n",
            "0  0.512841  0.487159  hashmap import h...\n",
            "1  0.343647  0.656353  class lambda has...\n",
            "2  0.276391  0.723609  import class imp...\n",
            "3  0.602169  0.397831  arraylist hashma...\n",
            "4  0.169425  0.830575  def elif import ...\n"
          ]
        }
      ],
      "source": [
        "print(topic_word_df)\n",
        "print(document_topic_df.head())"
      ]
    },
    {
      "cell_type": "code",
      "execution_count": 202,
      "metadata": {
        "id": "4F4CLnUberjC"
      },
      "outputs": [],
      "source": [
        "# save results for submission\n",
        "topic_word_df.to_pickle(save_path / \"labeled_topic_word.pkl\")\n",
        "document_topic_df.to_pickle(save_path / \"labeled_document_topic.pkl\")"
      ]
    },
    {
      "cell_type": "markdown",
      "metadata": {
        "id": "8CGfKmnKqrSv"
      },
      "source": [
        "# Making a Submission\n",
        "\n",
        "Running the following cell to make sure your output looks exactly like:\n",
        "```bash\n",
        "submission\n",
        "├── labeled_document_topic.pkl\n",
        "├── labeled_topic_word.pkl\n",
        "├── unlabeled_document_topic.pkl\n",
        "└── unlabeled_topic_word.pkl\n",
        "```"
      ]
    },
    {
      "cell_type": "code",
      "execution_count": 203,
      "metadata": {
        "id": "v4p3eNyCgSU6",
        "colab": {
          "base_uri": "https://localhost:8080/"
        },
        "outputId": "6f495d4e-dbc0-445f-8262-1f93df8e3888"
      },
      "outputs": [
        {
          "output_type": "stream",
          "name": "stdout",
          "text": [
            "submission\n",
            "├── labeled_document_topic.pkl\n",
            "├── labeled_topic_word.pkl\n",
            "├── unlabeled_document_topic.pkl\n",
            "└── unlabeled_topic_word.pkl\n",
            "\n",
            "0 directories, 4 files\n"
          ]
        }
      ],
      "source": [
        "! tree submission"
      ]
    },
    {
      "cell_type": "markdown",
      "metadata": {
        "id": "Tf_mo_5PnCHE"
      },
      "source": [
        "Running the following cell will add `fingerprint.pkl` to the `submission/` folder; this file identifies the authorship of the generated results."
      ]
    },
    {
      "cell_type": "code",
      "execution_count": 204,
      "metadata": {
        "id": "EakwnlAcVtpc"
      },
      "outputs": [],
      "source": [
        "post_processing()"
      ]
    },
    {
      "cell_type": "markdown",
      "source": [
        "Download the `submission.zip` and submit it together with this notebook for grading."
      ],
      "metadata": {
        "id": "pu4krnFMS0fy"
      }
    },
    {
      "cell_type": "markdown",
      "source": [
        "![image.png](data:image/png;base64,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)"
      ],
      "metadata": {
        "id": "sXQ69wFPjyby"
      }
    }
  ],
  "metadata": {
    "colab": {
      "provenance": []
    },
    "kernelspec": {
      "display_name": "Python 3 (ipykernel)",
      "language": "python",
      "name": "python3"
    },
    "language_info": {
      "codemirror_mode": {
        "name": "ipython",
        "version": 3
      },
      "file_extension": ".py",
      "mimetype": "text/x-python",
      "name": "python",
      "nbconvert_exporter": "python",
      "pygments_lexer": "ipython3",
      "version": "3.7.0"
    }
  },
  "nbformat": 4,
  "nbformat_minor": 0
}